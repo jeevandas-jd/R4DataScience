{
  "nbformat": 4,
  "nbformat_minor": 0,
  "metadata": {
    "colab": {
      "provenance": [],
      "authorship_tag": "ABX9TyMneD9sjALhwa5L8WjMzPir",
      "include_colab_link": true
    },
    "kernelspec": {
      "name": "ir",
      "display_name": "R"
    },
    "language_info": {
      "name": "R"
    }
  },
  "cells": [
    {
      "cell_type": "markdown",
      "metadata": {
        "id": "view-in-github",
        "colab_type": "text"
      },
      "source": [
        "<a href=\"https://colab.research.google.com/github/jeevandas-jd/R4DataScience/blob/main/labcycle1/question2.ipynb\" target=\"_parent\"><img src=\"https://colab.research.google.com/assets/colab-badge.svg\" alt=\"Open In Colab\"/></a>"
      ]
    },
    {
      "cell_type": "code",
      "execution_count": 11,
      "metadata": {
        "colab": {
          "base_uri": "https://localhost:8080/"
        },
        "id": "67MV25FD5_1P",
        "outputId": "d6e00143-1dd6-4841-d35b-ec6476f29446"
      },
      "outputs": [
        {
          "output_type": "stream",
          "name": "stdout",
          "text": [
            "Enter number of students: 2\n",
            "Enter name: jeevandas\n",
            "Enter age: 20\n",
            "Enter grade (A, B, C, D, F): 12,13,14,15,15\n",
            "Enter name: jani\n",
            "Enter age: 21\n",
            "Enter grade (A, B, C, D, F): 15,15,15,15,15\n",
            "\n",
            "--- Student 1 ---\n",
            "❌ Invalid record! Skipping...\n",
            "\n",
            "--- Student 2 ---\n",
            "❌ Invalid record! Skipping...\n",
            "\n",
            "Valid Student Records:\n",
            "[1] Name  Age   Grade\n",
            "<0 rows> (or 0-length row.names)\n",
            "\n",
            "No valid student records found.\n"
          ]
        }
      ],
      "source": [
        "# Student Records Program with Validation\n",
        "\n",
        "# Function to check if age is a positive integer\n",
        "is_valid_age <- function(age) {\n",
        "  return(!is.na(age) && age > 0 && (age %% 1 == 0))\n",
        "}\n",
        "\n",
        "# Function to check if grade is valid\n",
        "is_valid_grade <- function(grade) {\n",
        "  return(grade %in% c(\"A\", \"B\", \"C\", \"D\", \"F\"))\n",
        "}\n",
        "\n",
        "# List to store valid records\n",
        "students <- data.frame(Name = character(),\n",
        "                       Age = integer(),\n",
        "                       Grade = character(),\n",
        "                       stringsAsFactors = FALSE)\n",
        "\n",
        "# Ask how many records\n",
        "n <- as.integer(readline(prompt = \"Enter number of students: \"))\n",
        "\n",
        "for (i in 1:n) {\n",
        "  cat(\"\\n--- Student\", i, \"---\\n\")\n",
        "  name <- readline(prompt = \"Enter name: \")\n",
        "  age <- as.integer(readline(prompt = \"Enter age: \"))\n",
        "  grade <- toupper(readline(prompt = \"Enter grade (A, B, C, D, F): \"))\n",
        "\n",
        "  if (is_valid_age(age) && is_valid_grade(grade)) {\n",
        "    students <- rbind(students, data.frame(Name = name, Age = age, Grade = grade, stringsAsFactors = FALSE))\n",
        "    cat(\"Record saved ✅\\n\")\n",
        "  } else {\n",
        "    cat(\"❌ Invalid record! Skipping...\\n\")\n",
        "  }\n",
        "}\n",
        "\n",
        "# Display valid records\n",
        "cat(\"\\nValid Student Records:\\n\")\n",
        "print(students)\n",
        "\n",
        "# Calculate average age\n",
        "if (nrow(students) > 0) {\n",
        "  avg_age <- mean(students$Age)\n",
        "  cat(\"\\nAverage Age of valid students:\", avg_age, \"\\n\")\n",
        "} else {\n",
        "  cat(\"\\nNo valid student records found.\\n\")\n",
        "}"
      ]
    },
    {
      "cell_type": "code",
      "source": [],
      "metadata": {
        "id": "J4EMOFQM7CEl"
      },
      "execution_count": 7,
      "outputs": []
    },
    {
      "cell_type": "code",
      "source": [],
      "metadata": {
        "id": "oNwMxUwA7pWn"
      },
      "execution_count": null,
      "outputs": []
    }
  ]
}