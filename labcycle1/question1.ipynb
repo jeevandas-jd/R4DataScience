{
  "nbformat": 4,
  "nbformat_minor": 0,
  "metadata": {
    "colab": {
      "provenance": [],
      "authorship_tag": "ABX9TyMPIWen8SR+ILk2vCSCCOUk",
      "include_colab_link": true
    },
    "kernelspec": {
      "name": "ir",
      "display_name": "R"
    },
    "language_info": {
      "name": "R"
    }
  },
  "cells": [
    {
      "cell_type": "markdown",
      "metadata": {
        "id": "view-in-github",
        "colab_type": "text"
      },
      "source": [
        "<a href=\"https://colab.research.google.com/github/jeevandas-jd/R4DataScience/blob/main/labcycle1/question1.ipynb\" target=\"_parent\"><img src=\"https://colab.research.google.com/assets/colab-badge.svg\" alt=\"Open In Colab\"/></a>"
      ]
    },
    {
      "cell_type": "code",
      "execution_count": 6,
      "metadata": {
        "colab": {
          "base_uri": "https://localhost:8080/"
        },
        "id": "67MV25FD5_1P",
        "outputId": "1e738a42-31d5-4736-e3bb-55f88d3b05df"
      },
      "outputs": [
        {
          "output_type": "stream",
          "name": "stdout",
          "text": [
            "Total number of words: 17 \n",
            "Average word length: 4.588235 \n",
            "Longest word: statistics \n",
            "Modified Paragraph:\n",
            " Python is a powerful language for data analysis. Python is widely used in statistics and machine learning. \n"
          ]
        }
      ],
      "source": [
        "# R Program: Text Analysis\n",
        "\n",
        "# Input paragraph\n",
        "paragraph <- \"R is a powerful language for data analysis. R is widely used in statistics and machine learning.\"\n",
        "\n",
        "# 1. Split paragraph into words (ignoring punctuation)\n",
        "words <- unlist(strsplit(paragraph, \"[[:space:][:punct:]]+\"))\n",
        "\n",
        "# Remove empty strings (if any)\n",
        "words <- words[words != \"\"]\n",
        "\n",
        "# a. Count total number of words\n",
        "total_words <- length(words)\n",
        "cat(\"Total number of words:\", total_words, \"\\n\")\n",
        "\n",
        "# b. Calculate average word length\n",
        "word_lengths <- nchar(words)\n",
        "avg_word_length <- mean(word_lengths)\n",
        "cat(\"Average word length:\", avg_word_length, \"\\n\")\n",
        "\n",
        "# c. Identify the longest word\n",
        "longest_word <- words[which.max(word_lengths)]\n",
        "cat(\"Longest word:\", longest_word, \"\\n\")\n",
        "\n",
        "# d. Replace a specific word with another\n",
        "word_to_replace <- \"R\"\n",
        "replacement_word <- \"Python\"\n",
        "\n",
        "modified_paragraph <- gsub(paste0(\"\\\\b\", word_to_replace, \"\\\\b\"), replacement_word, paragraph)\n",
        "cat(\"Modified Paragraph:\\n\", modified_paragraph, \"\\n\")\n"
      ]
    },
    {
      "cell_type": "code",
      "source": [
        "words<-unlist(strsplit(paragraph,\"[[:space:][:punct:]]+\"))\n",
        "cat(words)"
      ],
      "metadata": {
        "colab": {
          "base_uri": "https://localhost:8080/"
        },
        "id": "J4EMOFQM7CEl",
        "outputId": "c96a8188-2edb-4b86-efd4-11f506ce4d92"
      },
      "execution_count": 5,
      "outputs": [
        {
          "output_type": "stream",
          "name": "stdout",
          "text": [
            "hello I am jeevandas I am 70kg 176cm"
          ]
        }
      ]
    },
    {
      "cell_type": "code",
      "source": [],
      "metadata": {
        "id": "oNwMxUwA7pWn"
      },
      "execution_count": null,
      "outputs": []
    }
  ]
}